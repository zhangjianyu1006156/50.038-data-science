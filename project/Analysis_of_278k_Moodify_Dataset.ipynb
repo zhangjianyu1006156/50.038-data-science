{
  "cells": [
    {
      "cell_type": "code",
      "execution_count": 1,
      "metadata": {
        "id": "kLnjPBPj4Re9"
      },
      "outputs": [],
      "source": [
        "import pandas as pd\n",
        "import matplotlib.pyplot as plt\n",
        "import seaborn as sb\n",
        "import numpy as np"
      ]
    },
    {
      "cell_type": "code",
      "execution_count": 2,
      "metadata": {
        "colab": {
          "base_uri": "https://localhost:8080/"
        },
        "id": "i04GnRBWoZhB",
        "outputId": "5caf57a1-d8bf-4cb7-e25b-2c343b67786b"
      },
      "outputs": [
        {
          "name": "stdout",
          "output_type": "stream",
          "text": [
            "Requirement already satisfied: kaggle in /usr/local/lib/python3.10/dist-packages (1.5.16)\n",
            "Requirement already satisfied: six>=1.10 in /usr/local/lib/python3.10/dist-packages (from kaggle) (1.16.0)\n",
            "Requirement already satisfied: certifi in /usr/local/lib/python3.10/dist-packages (from kaggle) (2024.2.2)\n",
            "Requirement already satisfied: python-dateutil in /usr/local/lib/python3.10/dist-packages (from kaggle) (2.8.2)\n",
            "Requirement already satisfied: requests in /usr/local/lib/python3.10/dist-packages (from kaggle) (2.31.0)\n",
            "Requirement already satisfied: tqdm in /usr/local/lib/python3.10/dist-packages (from kaggle) (4.66.2)\n",
            "Requirement already satisfied: python-slugify in /usr/local/lib/python3.10/dist-packages (from kaggle) (8.0.4)\n",
            "Requirement already satisfied: urllib3 in /usr/local/lib/python3.10/dist-packages (from kaggle) (2.0.7)\n",
            "Requirement already satisfied: bleach in /usr/local/lib/python3.10/dist-packages (from kaggle) (6.1.0)\n",
            "Requirement already satisfied: webencodings in /usr/local/lib/python3.10/dist-packages (from bleach->kaggle) (0.5.1)\n",
            "Requirement already satisfied: text-unidecode>=1.3 in /usr/local/lib/python3.10/dist-packages (from python-slugify->kaggle) (1.3)\n",
            "Requirement already satisfied: charset-normalizer<4,>=2 in /usr/local/lib/python3.10/dist-packages (from requests->kaggle) (3.3.2)\n",
            "Requirement already satisfied: idna<4,>=2.5 in /usr/local/lib/python3.10/dist-packages (from requests->kaggle) (3.6)\n"
          ]
        }
      ],
      "source": [
        "!pip install kaggle"
      ]
    },
    {
      "cell_type": "code",
      "execution_count": 3,
      "metadata": {
        "id": "VjKqLPuosMJ2"
      },
      "outputs": [],
      "source": [
        "!chmod 600 /root/.kaggle/kaggle.json"
      ]
    },
    {
      "cell_type": "code",
      "execution_count": 4,
      "metadata": {
        "colab": {
          "base_uri": "https://localhost:8080/"
        },
        "id": "9oKzGiDWqFZ3",
        "outputId": "c84f9743-e1e1-4682-810a-7d54598cfaa6"
      },
      "outputs": [
        {
          "name": "stdout",
          "output_type": "stream",
          "text": [
            "Warning: Looks like you're using an outdated API Version, please consider updating (server 1.6.7 / client 1.5.16)\n",
            "ref                                                          title                                        size  lastUpdated          downloadCount  voteCount  usabilityRating  \n",
            "-----------------------------------------------------------  -------------------------------------------  ----  -------------------  -------------  ---------  ---------------  \n",
            "abdullahorzan/moodify-dataset                                278k Emotion Labeled Spotify Songs           28MB  2023-05-31 01:15:32            933         34  0.8235294        \n",
            "aestheteaman01/278k-us-wildfires-due-to-lightning-2004-2015  US Wildfires due to Lightning (2004 - 2015)   6MB  2021-08-22 04:40:26            511         27  0.9117647        \n",
            "viktoriiashkurenko/278k-spotify-songs                        6K Spotify Playlists                         42GB  2023-05-18 17:11:45           1510         41  1.0              \n"
          ]
        }
      ],
      "source": [
        "!kaggle datasets list -s 278k"
      ]
    },
    {
      "cell_type": "code",
      "execution_count": 5,
      "metadata": {
        "colab": {
          "base_uri": "https://localhost:8080/"
        },
        "id": "OvxHjmuusWgz",
        "outputId": "5ae6d769-42f3-46eb-d394-044bb6fbda5e"
      },
      "outputs": [
        {
          "name": "stdout",
          "output_type": "stream",
          "text": [
            "Downloading moodify-dataset.zip to /content\n",
            "100% 27.7M/27.7M [00:00<00:00, 49.2MB/s]\n",
            "100% 27.7M/27.7M [00:00<00:00, 39.3MB/s]\n"
          ]
        }
      ],
      "source": [
        "!kaggle datasets download -d abdullahorzan/moodify-dataset"
      ]
    },
    {
      "cell_type": "code",
      "execution_count": 6,
      "metadata": {
        "colab": {
          "base_uri": "https://localhost:8080/"
        },
        "id": "XaFewC2o4A1s",
        "outputId": "df0782c1-dc6d-4b5c-f667-c010e2213549"
      },
      "outputs": [
        {
          "name": "stdout",
          "output_type": "stream",
          "text": [
            "278k_labelled_uri.csv  278k_song_labelled.csv  moodify-dataset.zip  sample_data\n"
          ]
        }
      ],
      "source": [
        "!unzip -q moodify-dataset.zip\n",
        "!ls"
      ]
    },
    {
      "cell_type": "code",
      "execution_count": 7,
      "metadata": {
        "colab": {
          "base_uri": "https://localhost:8080/",
          "height": 206
        },
        "id": "z0_En51W4J4h",
        "outputId": "480ec1af-7483-4fa0-debd-9392b60aeab7"
      },
      "outputs": [
        {
          "data": {
            "application/vnd.google.colaboratory.intrinsic+json": {
              "type": "dataframe",
              "variable_name": "music_emo"
            },
            "text/html": [
              "\n",
              "  <div id=\"df-f661d8f8-5830-4419-b9a2-b53432ead18e\" class=\"colab-df-container\">\n",
              "    <div>\n",
              "<style scoped>\n",
              "    .dataframe tbody tr th:only-of-type {\n",
              "        vertical-align: middle;\n",
              "    }\n",
              "\n",
              "    .dataframe tbody tr th {\n",
              "        vertical-align: top;\n",
              "    }\n",
              "\n",
              "    .dataframe thead th {\n",
              "        text-align: right;\n",
              "    }\n",
              "</style>\n",
              "<table border=\"1\" class=\"dataframe\">\n",
              "  <thead>\n",
              "    <tr style=\"text-align: right;\">\n",
              "      <th></th>\n",
              "      <th>danceability</th>\n",
              "      <th>energy</th>\n",
              "      <th>loudness</th>\n",
              "      <th>speechiness</th>\n",
              "      <th>acousticness</th>\n",
              "      <th>instrumentalness</th>\n",
              "      <th>liveness</th>\n",
              "      <th>valence</th>\n",
              "      <th>tempo</th>\n",
              "      <th>labels</th>\n",
              "    </tr>\n",
              "  </thead>\n",
              "  <tbody>\n",
              "    <tr>\n",
              "      <th>0</th>\n",
              "      <td>0.611</td>\n",
              "      <td>0.614</td>\n",
              "      <td>-8.815</td>\n",
              "      <td>0.0672</td>\n",
              "      <td>0.0169</td>\n",
              "      <td>0.000794</td>\n",
              "      <td>0.7530</td>\n",
              "      <td>0.520</td>\n",
              "      <td>128.050</td>\n",
              "      <td>2</td>\n",
              "    </tr>\n",
              "    <tr>\n",
              "      <th>1</th>\n",
              "      <td>0.638</td>\n",
              "      <td>0.781</td>\n",
              "      <td>-6.848</td>\n",
              "      <td>0.0285</td>\n",
              "      <td>0.0118</td>\n",
              "      <td>0.009530</td>\n",
              "      <td>0.3490</td>\n",
              "      <td>0.250</td>\n",
              "      <td>122.985</td>\n",
              "      <td>1</td>\n",
              "    </tr>\n",
              "    <tr>\n",
              "      <th>2</th>\n",
              "      <td>0.560</td>\n",
              "      <td>0.810</td>\n",
              "      <td>-8.029</td>\n",
              "      <td>0.0872</td>\n",
              "      <td>0.0071</td>\n",
              "      <td>0.000008</td>\n",
              "      <td>0.2410</td>\n",
              "      <td>0.247</td>\n",
              "      <td>170.044</td>\n",
              "      <td>1</td>\n",
              "    </tr>\n",
              "    <tr>\n",
              "      <th>3</th>\n",
              "      <td>0.525</td>\n",
              "      <td>0.699</td>\n",
              "      <td>-4.571</td>\n",
              "      <td>0.0353</td>\n",
              "      <td>0.0178</td>\n",
              "      <td>0.000088</td>\n",
              "      <td>0.0888</td>\n",
              "      <td>0.199</td>\n",
              "      <td>92.011</td>\n",
              "      <td>0</td>\n",
              "    </tr>\n",
              "    <tr>\n",
              "      <th>4</th>\n",
              "      <td>0.367</td>\n",
              "      <td>0.771</td>\n",
              "      <td>-5.863</td>\n",
              "      <td>0.1060</td>\n",
              "      <td>0.3650</td>\n",
              "      <td>0.000001</td>\n",
              "      <td>0.0965</td>\n",
              "      <td>0.163</td>\n",
              "      <td>115.917</td>\n",
              "      <td>1</td>\n",
              "    </tr>\n",
              "  </tbody>\n",
              "</table>\n",
              "</div>\n",
              "    <div class=\"colab-df-buttons\">\n",
              "\n",
              "  <div class=\"colab-df-container\">\n",
              "    <button class=\"colab-df-convert\" onclick=\"convertToInteractive('df-f661d8f8-5830-4419-b9a2-b53432ead18e')\"\n",
              "            title=\"Convert this dataframe to an interactive table.\"\n",
              "            style=\"display:none;\">\n",
              "\n",
              "  <svg xmlns=\"http://www.w3.org/2000/svg\" height=\"24px\" viewBox=\"0 -960 960 960\">\n",
              "    <path d=\"M120-120v-720h720v720H120Zm60-500h600v-160H180v160Zm220 220h160v-160H400v160Zm0 220h160v-160H400v160ZM180-400h160v-160H180v160Zm440 0h160v-160H620v160ZM180-180h160v-160H180v160Zm440 0h160v-160H620v160Z\"/>\n",
              "  </svg>\n",
              "    </button>\n",
              "\n",
              "  <style>\n",
              "    .colab-df-container {\n",
              "      display:flex;\n",
              "      gap: 12px;\n",
              "    }\n",
              "\n",
              "    .colab-df-convert {\n",
              "      background-color: #E8F0FE;\n",
              "      border: none;\n",
              "      border-radius: 50%;\n",
              "      cursor: pointer;\n",
              "      display: none;\n",
              "      fill: #1967D2;\n",
              "      height: 32px;\n",
              "      padding: 0 0 0 0;\n",
              "      width: 32px;\n",
              "    }\n",
              "\n",
              "    .colab-df-convert:hover {\n",
              "      background-color: #E2EBFA;\n",
              "      box-shadow: 0px 1px 2px rgba(60, 64, 67, 0.3), 0px 1px 3px 1px rgba(60, 64, 67, 0.15);\n",
              "      fill: #174EA6;\n",
              "    }\n",
              "\n",
              "    .colab-df-buttons div {\n",
              "      margin-bottom: 4px;\n",
              "    }\n",
              "\n",
              "    [theme=dark] .colab-df-convert {\n",
              "      background-color: #3B4455;\n",
              "      fill: #D2E3FC;\n",
              "    }\n",
              "\n",
              "    [theme=dark] .colab-df-convert:hover {\n",
              "      background-color: #434B5C;\n",
              "      box-shadow: 0px 1px 3px 1px rgba(0, 0, 0, 0.15);\n",
              "      filter: drop-shadow(0px 1px 2px rgba(0, 0, 0, 0.3));\n",
              "      fill: #FFFFFF;\n",
              "    }\n",
              "  </style>\n",
              "\n",
              "    <script>\n",
              "      const buttonEl =\n",
              "        document.querySelector('#df-f661d8f8-5830-4419-b9a2-b53432ead18e button.colab-df-convert');\n",
              "      buttonEl.style.display =\n",
              "        google.colab.kernel.accessAllowed ? 'block' : 'none';\n",
              "\n",
              "      async function convertToInteractive(key) {\n",
              "        const element = document.querySelector('#df-f661d8f8-5830-4419-b9a2-b53432ead18e');\n",
              "        const dataTable =\n",
              "          await google.colab.kernel.invokeFunction('convertToInteractive',\n",
              "                                                    [key], {});\n",
              "        if (!dataTable) return;\n",
              "\n",
              "        const docLinkHtml = 'Like what you see? Visit the ' +\n",
              "          '<a target=\"_blank\" href=https://colab.research.google.com/notebooks/data_table.ipynb>data table notebook</a>'\n",
              "          + ' to learn more about interactive tables.';\n",
              "        element.innerHTML = '';\n",
              "        dataTable['output_type'] = 'display_data';\n",
              "        await google.colab.output.renderOutput(dataTable, element);\n",
              "        const docLink = document.createElement('div');\n",
              "        docLink.innerHTML = docLinkHtml;\n",
              "        element.appendChild(docLink);\n",
              "      }\n",
              "    </script>\n",
              "  </div>\n",
              "\n",
              "\n",
              "<div id=\"df-05f3410a-4661-4016-a97d-31b199defdb3\">\n",
              "  <button class=\"colab-df-quickchart\" onclick=\"quickchart('df-05f3410a-4661-4016-a97d-31b199defdb3')\"\n",
              "            title=\"Suggest charts\"\n",
              "            style=\"display:none;\">\n",
              "\n",
              "<svg xmlns=\"http://www.w3.org/2000/svg\" height=\"24px\"viewBox=\"0 0 24 24\"\n",
              "     width=\"24px\">\n",
              "    <g>\n",
              "        <path d=\"M19 3H5c-1.1 0-2 .9-2 2v14c0 1.1.9 2 2 2h14c1.1 0 2-.9 2-2V5c0-1.1-.9-2-2-2zM9 17H7v-7h2v7zm4 0h-2V7h2v10zm4 0h-2v-4h2v4z\"/>\n",
              "    </g>\n",
              "</svg>\n",
              "  </button>\n",
              "\n",
              "<style>\n",
              "  .colab-df-quickchart {\n",
              "      --bg-color: #E8F0FE;\n",
              "      --fill-color: #1967D2;\n",
              "      --hover-bg-color: #E2EBFA;\n",
              "      --hover-fill-color: #174EA6;\n",
              "      --disabled-fill-color: #AAA;\n",
              "      --disabled-bg-color: #DDD;\n",
              "  }\n",
              "\n",
              "  [theme=dark] .colab-df-quickchart {\n",
              "      --bg-color: #3B4455;\n",
              "      --fill-color: #D2E3FC;\n",
              "      --hover-bg-color: #434B5C;\n",
              "      --hover-fill-color: #FFFFFF;\n",
              "      --disabled-bg-color: #3B4455;\n",
              "      --disabled-fill-color: #666;\n",
              "  }\n",
              "\n",
              "  .colab-df-quickchart {\n",
              "    background-color: var(--bg-color);\n",
              "    border: none;\n",
              "    border-radius: 50%;\n",
              "    cursor: pointer;\n",
              "    display: none;\n",
              "    fill: var(--fill-color);\n",
              "    height: 32px;\n",
              "    padding: 0;\n",
              "    width: 32px;\n",
              "  }\n",
              "\n",
              "  .colab-df-quickchart:hover {\n",
              "    background-color: var(--hover-bg-color);\n",
              "    box-shadow: 0 1px 2px rgba(60, 64, 67, 0.3), 0 1px 3px 1px rgba(60, 64, 67, 0.15);\n",
              "    fill: var(--button-hover-fill-color);\n",
              "  }\n",
              "\n",
              "  .colab-df-quickchart-complete:disabled,\n",
              "  .colab-df-quickchart-complete:disabled:hover {\n",
              "    background-color: var(--disabled-bg-color);\n",
              "    fill: var(--disabled-fill-color);\n",
              "    box-shadow: none;\n",
              "  }\n",
              "\n",
              "  .colab-df-spinner {\n",
              "    border: 2px solid var(--fill-color);\n",
              "    border-color: transparent;\n",
              "    border-bottom-color: var(--fill-color);\n",
              "    animation:\n",
              "      spin 1s steps(1) infinite;\n",
              "  }\n",
              "\n",
              "  @keyframes spin {\n",
              "    0% {\n",
              "      border-color: transparent;\n",
              "      border-bottom-color: var(--fill-color);\n",
              "      border-left-color: var(--fill-color);\n",
              "    }\n",
              "    20% {\n",
              "      border-color: transparent;\n",
              "      border-left-color: var(--fill-color);\n",
              "      border-top-color: var(--fill-color);\n",
              "    }\n",
              "    30% {\n",
              "      border-color: transparent;\n",
              "      border-left-color: var(--fill-color);\n",
              "      border-top-color: var(--fill-color);\n",
              "      border-right-color: var(--fill-color);\n",
              "    }\n",
              "    40% {\n",
              "      border-color: transparent;\n",
              "      border-right-color: var(--fill-color);\n",
              "      border-top-color: var(--fill-color);\n",
              "    }\n",
              "    60% {\n",
              "      border-color: transparent;\n",
              "      border-right-color: var(--fill-color);\n",
              "    }\n",
              "    80% {\n",
              "      border-color: transparent;\n",
              "      border-right-color: var(--fill-color);\n",
              "      border-bottom-color: var(--fill-color);\n",
              "    }\n",
              "    90% {\n",
              "      border-color: transparent;\n",
              "      border-bottom-color: var(--fill-color);\n",
              "    }\n",
              "  }\n",
              "</style>\n",
              "\n",
              "  <script>\n",
              "    async function quickchart(key) {\n",
              "      const quickchartButtonEl =\n",
              "        document.querySelector('#' + key + ' button');\n",
              "      quickchartButtonEl.disabled = true;  // To prevent multiple clicks.\n",
              "      quickchartButtonEl.classList.add('colab-df-spinner');\n",
              "      try {\n",
              "        const charts = await google.colab.kernel.invokeFunction(\n",
              "            'suggestCharts', [key], {});\n",
              "      } catch (error) {\n",
              "        console.error('Error during call to suggestCharts:', error);\n",
              "      }\n",
              "      quickchartButtonEl.classList.remove('colab-df-spinner');\n",
              "      quickchartButtonEl.classList.add('colab-df-quickchart-complete');\n",
              "    }\n",
              "    (() => {\n",
              "      let quickchartButtonEl =\n",
              "        document.querySelector('#df-05f3410a-4661-4016-a97d-31b199defdb3 button');\n",
              "      quickchartButtonEl.style.display =\n",
              "        google.colab.kernel.accessAllowed ? 'block' : 'none';\n",
              "    })();\n",
              "  </script>\n",
              "</div>\n",
              "\n",
              "    </div>\n",
              "  </div>\n"
            ],
            "text/plain": [
              "   danceability  energy  loudness  speechiness  acousticness  \\\n",
              "0         0.611   0.614    -8.815       0.0672        0.0169   \n",
              "1         0.638   0.781    -6.848       0.0285        0.0118   \n",
              "2         0.560   0.810    -8.029       0.0872        0.0071   \n",
              "3         0.525   0.699    -4.571       0.0353        0.0178   \n",
              "4         0.367   0.771    -5.863       0.1060        0.3650   \n",
              "\n",
              "   instrumentalness  liveness  valence    tempo  labels  \n",
              "0          0.000794    0.7530    0.520  128.050       2  \n",
              "1          0.009530    0.3490    0.250  122.985       1  \n",
              "2          0.000008    0.2410    0.247  170.044       1  \n",
              "3          0.000088    0.0888    0.199   92.011       0  \n",
              "4          0.000001    0.0965    0.163  115.917       1  "
            ]
          },
          "execution_count": 7,
          "metadata": {},
          "output_type": "execute_result"
        }
      ],
      "source": [
        "music_emo = pd.read_csv(\"./278k_song_labelled.csv\", index_col = 0)\n",
        "music_emo = music_emo.drop(['spec_rate','duration (ms)'], axis=1)\n",
        "music_emo.head()"
      ]
    },
    {
      "cell_type": "code",
      "execution_count": 8,
      "metadata": {
        "colab": {
          "base_uri": "https://localhost:8080/"
        },
        "id": "wQTL2xtn6hU7",
        "outputId": "dcfe346c-03a1-45b7-ab28-2416334f1ce6"
      },
      "outputs": [
        {
          "data": {
            "text/plain": [
              "(277938, 10)"
            ]
          },
          "execution_count": 8,
          "metadata": {},
          "output_type": "execute_result"
        }
      ],
      "source": [
        "#number of classes is 3\n",
        "\n",
        "#checking dimensions\n",
        "music_emo.shape\n",
        "#music_emo.describe()"
      ]
    },
    {
      "cell_type": "code",
      "execution_count": 9,
      "metadata": {
        "colab": {
          "base_uri": "https://localhost:8080/",
          "height": 448
        },
        "id": "hoG_OSvT7mo6",
        "outputId": "dbc64ab1-82d0-4ec5-c277-b6bdd8d86ea8"
      },
      "outputs": [
        {
          "data": {
            "text/plain": [
              "<Axes: >"
            ]
          },
          "execution_count": 9,
          "metadata": {},
          "output_type": "execute_result"
        },
        {
          "data": {
            "image/png": "[encoded data removed]",
            "text/plain": [
              "<Figure size 640x480 with 1 Axes>"
            ]
          },
          "metadata": {},
          "output_type": "display_data"
        }
      ],
      "source": [
        "#visualize how many people have improved their mental health\n",
        "music_emo[\"labels\"].value_counts().plot(kind= 'barh')\n"
      ]
    },
    {
      "cell_type": "code",
      "execution_count": 10,
      "metadata": {
        "colab": {
          "base_uri": "https://localhost:8080/"
        },
        "id": "SpvbGZrsBG8N",
        "outputId": "fd478002-c4a0-4bba-916b-57391d5f8996"
      },
      "outputs": [
        {
          "name": "stdout",
          "output_type": "stream",
          "text": [
            "Index(['danceability', 'energy', 'loudness', 'speechiness', 'acousticness',\n",
            "       'instrumentalness', 'liveness', 'valence', 'tempo', 'labels'],\n",
            "      dtype='object')\n"
          ]
        }
      ],
      "source": [
        "print(music_emo.columns)"
      ]
    },
    {
      "cell_type": "code",
      "execution_count": 11,
      "metadata": {
        "colab": {
          "base_uri": "https://localhost:8080/"
        },
        "id": "tfkVy5IfENqc",
        "outputId": "65658ca4-5314-4796-cd77-25664dbd80c6"
      },
      "outputs": [
        {
          "data": {
            "text/plain": [
              "0    2\n",
              "1    1\n",
              "2    1\n",
              "3    0\n",
              "4    1\n",
              "Name: labels, dtype: int64"
            ]
          },
          "execution_count": 11,
          "metadata": {},
          "output_type": "execute_result"
        }
      ],
      "source": [
        "elements = music_emo.iloc[:, :9]\n",
        "elements.head()\n",
        "\n",
        "mood = music_emo[\"labels\"]\n",
        "mood.head()"
      ]
    },
    {
      "cell_type": "code",
      "execution_count": 12,
      "metadata": {
        "colab": {
          "base_uri": "https://localhost:8080/"
        },
        "id": "gibTQvMrIhzL",
        "outputId": "de2bead3-3f90-4cc3-a459-6d23ebb92337"
      },
      "outputs": [
        {
          "name": "stdout",
          "output_type": "stream",
          "text": [
            "(277938, 9)\n",
            "(277938,)\n"
          ]
        }
      ],
      "source": [
        "print(elements.shape)\n",
        "\n",
        "print(mood.shape)\n"
      ]
    },
    {
      "cell_type": "code",
      "execution_count": 13,
      "metadata": {
        "colab": {
          "base_uri": "https://localhost:8080/",
          "height": 422
        },
        "id": "7P0kPW6gF1Z2",
        "outputId": "6fca0e90-dd4f-4b6a-b84c-f66a8973a431"
      },
      "outputs": [
        {
          "data": {
            "image/png": "[encoded data removed]",
            "text/plain": [
              "<IPython.core.display.Image object>"
            ]
          },
          "execution_count": 13,
          "metadata": {},
          "output_type": "execute_result"
        }
      ],
      "source": [
        "#creating a naive model based on the music effects and the mixture of the frequencies\n",
        "\n",
        "#first import the necessary modules\n",
        "import tensorflow as tf # Tensorflow is a neural network and deep neural network library\n",
        "from tensorflow import keras # Keras is a high-level wrapper that makes working with tensorflow easier\n",
        "from tensorflow.keras import layers # Layers contains different types of layers such as Dense, Convolutional, Recurrent\n",
        "from sklearn.model_selection import train_test_split\n",
        "\n",
        "#split the dataset into training and test\n",
        "x_train, x_test, y_train, y_test = train_test_split(elements, mood, test_size=0.3)\n",
        "\n",
        "from sklearn.preprocessing import MinMaxScaler\n",
        "\n",
        "# define a new scaler:\n",
        "x_scaler = MinMaxScaler()\n",
        "\n",
        "# fit the normalization on the training set:\n",
        "x_scaler.fit(x_train)\n",
        "\n",
        "# then create new and normalized training/test sets:\n",
        "x_train_norm = x_scaler.transform(x_train)\n",
        "x_test_norm = x_scaler.transform(x_test)\n",
        "\n",
        "\n",
        "#a simple 2-layer model using Keras\n",
        "def make_model_dense(input_shape, num_classes):\n",
        "    inputs = keras.Input(shape=input_shape)\n",
        "    # Entry block\n",
        "    # Write dense layers with non-linear activation here.\n",
        "    if num_classes == 2:\n",
        "        units = 1\n",
        "    else:\n",
        "        units = num_classes # num_class would be different for MNIST.\n",
        "\n",
        "    outputs = layers.Dense(128, activation=\"relu\")(inputs)\n",
        "    outputs2 = layers.Dense(64, activation=\"leaky_relu\")(outputs)\n",
        "    outputs3= layers.Dense(units, activation=\"softmax\")(outputs2)\n",
        "\n",
        "    return keras.Model(inputs, outputs3)\n",
        "\n",
        "model = make_model_dense(input_shape= 9, num_classes=4)\n",
        "keras.utils.plot_model(model, show_shapes=True)"
      ]
    },
    {
      "cell_type": "code",
      "execution_count": 14,
      "metadata": {
        "colab": {
          "base_uri": "https://localhost:8080/"
        },
        "id": "Dpun3LZGJw9r",
        "outputId": "6bbed970-b4f0-4b1d-a638-a8ebaa7a2171"
      },
      "outputs": [
        {
          "data": {
            "text/plain": [
              "dtype('int64')"
            ]
          },
          "execution_count": 14,
          "metadata": {},
          "output_type": "execute_result"
        }
      ],
      "source": [
        "y_train.dtypes"
      ]
    },
    {
      "cell_type": "code",
      "execution_count": 15,
      "metadata": {
        "colab": {
          "base_uri": "https://localhost:8080/",
          "height": 835
        },
        "id": "cgPBYfSZI_-V",
        "outputId": "63fe6e52-b687-4a94-c44b-b8467e1b4f90"
      },
      "outputs": [
        {
          "name": "stdout",
          "output_type": "stream",
          "text": [
            "Epoch 1/10\n",
            "2432/2432 [==============================] - 18s 7ms/step - loss: 0.4111 - accuracy: 0.8307 - val_loss: 0.3486 - val_accuracy: 0.8558\n",
            "Epoch 2/10\n",
            "2432/2432 [==============================] - 12s 5ms/step - loss: 0.3357 - accuracy: 0.8592 - val_loss: 0.3297 - val_accuracy: 0.8608\n",
            "Epoch 3/10\n",
            "2432/2432 [==============================] - 6s 2ms/step - loss: 0.3114 - accuracy: 0.8682 - val_loss: 0.3093 - val_accuracy: 0.8686\n",
            "Epoch 4/10\n",
            "2432/2432 [==============================] - 8s 3ms/step - loss: 0.2962 - accuracy: 0.8751 - val_loss: 0.2882 - val_accuracy: 0.8762\n",
            "Epoch 5/10\n",
            "2432/2432 [==============================] - 5s 2ms/step - loss: 0.2846 - accuracy: 0.8800 - val_loss: 0.2799 - val_accuracy: 0.8816\n",
            "Epoch 6/10\n",
            "2432/2432 [==============================] - 8s 3ms/step - loss: 0.2775 - accuracy: 0.8829 - val_loss: 0.2780 - val_accuracy: 0.8826\n",
            "Epoch 7/10\n",
            "2432/2432 [==============================] - 6s 2ms/step - loss: 0.2712 - accuracy: 0.8857 - val_loss: 0.2658 - val_accuracy: 0.8876\n",
            "Epoch 8/10\n",
            "2432/2432 [==============================] - 7s 3ms/step - loss: 0.2663 - accuracy: 0.8875 - val_loss: 0.2683 - val_accuracy: 0.8855\n",
            "Epoch 9/10\n",
            "2432/2432 [==============================] - 7s 3ms/step - loss: 0.2606 - accuracy: 0.8902 - val_loss: 0.2606 - val_accuracy: 0.8901\n",
            "Epoch 10/10\n",
            "2432/2432 [==============================] - 8s 3ms/step - loss: 0.2575 - accuracy: 0.8913 - val_loss: 0.2499 - val_accuracy: 0.8952\n"
          ]
        },
        {
          "data": {
            "image/png": "[encoded data removed]",
            "text/plain": [
              "<Figure size 640x480 with 1 Axes>"
            ]
          },
          "metadata": {},
          "output_type": "display_data"
        }
      ],
      "source": [
        "epochs = 10\n",
        "\n",
        "callbacks = [\n",
        "    #instruction on where to save the checkpoint, during inf we can load the checkpoint and run the inference\n",
        "    keras.callbacks.ModelCheckpoint(\"save_mnist_at_{epoch}.keras\"),\n",
        "    #a technique to avoid overfitting\n",
        "    #stop the training once the validation accuracy plateaus\n",
        "    keras.callbacks.EarlyStopping(\n",
        "    monitor=\"val_loss\",\n",
        "    #waiting for the epoch where the validation accuracy is no longer decreasing\n",
        "    patience=epochs, # You can change it\n",
        "    verbose=0,\n",
        "    mode=\"auto\",\n",
        "    baseline=None,\n",
        "    restore_best_weights=False,\n",
        "    start_from_epoch=0,\n",
        ")\n",
        "]\n",
        "\n",
        "#using sparse version of categorical crossentropy due to a mismatch in the dimensions of x_train and y_train\n",
        "model.compile(\n",
        "    optimizer='adam',\n",
        "    loss=\"sparse_categorical_crossentropy\",\n",
        "    metrics=[\"accuracy\"],\n",
        ")\n",
        "\n",
        "history = model.fit(\n",
        "    x_train_norm,\n",
        "    y_train,\n",
        "    epochs=epochs,\n",
        "    callbacks=callbacks,\n",
        "    batch_size = 64,\n",
        "    validation_split=0.2,\n",
        ")\n",
        "\n",
        "\n",
        "plt.plot(history.history['accuracy'])\n",
        "plt.plot(history.history['val_accuracy'])\n",
        "plt.title('model accuracy')\n",
        "plt.ylabel('accuracy')\n",
        "plt.xlabel('epoch')\n",
        "plt.legend(['train', 'test'], loc='upper left')\n",
        "plt.show()"
      ]
    },
    {
      "cell_type": "code",
      "execution_count": 16,
      "metadata": {
        "colab": {
          "base_uri": "https://localhost:8080/"
        },
        "id": "E2dGi-Ci6-fW",
        "outputId": "8ee2dc91-7392-4d0c-f941-342daf82612f"
      },
      "outputs": [
        {
          "name": "stdout",
          "output_type": "stream",
          "text": [
            "Evaluate on test data\n",
            "1303/1303 [==============================] - 3s 2ms/step - loss: 0.2502 - accuracy: 0.8951\n",
            "test loss, test acc: [0.2502472996711731, 0.895109236240387]\n"
          ]
        }
      ],
      "source": [
        "# Evaluate the model on the test data using `evaluate`\n",
        "print(\"Evaluate on test data\")\n",
        "results = model.evaluate(x_test_norm, y_test, batch_size=64)\n",
        "print(\"test loss, test acc:\", results)"
      ]
    }
  ],
  "metadata": {
    "colab": {
      "provenance": []
    },
    "kernelspec": {
      "display_name": "Python 3",
      "name": "python3"
    },
    "language_info": {
      "name": "python",
      "version": "3.11.4"
    }
  },
  "nbformat": 4,
  "nbformat_minor": 0
}
