{
 "cells": [
  {
   "cell_type": "markdown",
   "metadata": {},
   "source": [
    "**Import necessary libraries**"
   ]
  },
  {
   "cell_type": "code",
   "execution_count": 3,
   "metadata": {},
   "outputs": [],
   "source": [
    "import torch\n",
    "import pandas as pd\n",
    "import matplotlib.pyplot as plt\n",
    "import numpy as np\n",
    "import torch.nn as nn\n",
    "import torch.nn.functional as F\n",
    "import torch.optim as optim\n",
    "from torch.utils.data import Dataset, DataLoader, TensorDataset\n",
    "from datasets import load_dataset\n",
    "from sklearn.model_selection import train_test_split\n",
    "from sklearn.preprocessing import StandardScaler"
   ]
  },
  {
   "cell_type": "markdown",
   "metadata": {},
   "source": [
    "**Prepare the Dataset**"
   ]
  },
  {
   "cell_type": "code",
   "execution_count": 4,
   "metadata": {},
   "outputs": [],
   "source": [
    "df = pd.read_csv(\"278k_song_labelled.csv\", index_col=0)\n",
    "df = df.drop(['spec_rate','duration (ms)'], axis=1)"
   ]
  },
  {
   "cell_type": "code",
   "execution_count": 5,
   "metadata": {},
   "outputs": [
    {
     "data": {
      "text/html": [
       "<div>\n",
       "<style scoped>\n",
       "    .dataframe tbody tr th:only-of-type {\n",
       "        vertical-align: middle;\n",
       "    }\n",
       "\n",
       "    .dataframe tbody tr th {\n",
       "        vertical-align: top;\n",
       "    }\n",
       "\n",
       "    .dataframe thead th {\n",
       "        text-align: right;\n",
       "    }\n",
       "</style>\n",
       "<table border=\"1\" class=\"dataframe\">\n",
       "  <thead>\n",
       "    <tr style=\"text-align: right;\">\n",
       "      <th></th>\n",
       "      <th>danceability</th>\n",
       "      <th>energy</th>\n",
       "      <th>loudness</th>\n",
       "      <th>speechiness</th>\n",
       "      <th>acousticness</th>\n",
       "      <th>instrumentalness</th>\n",
       "      <th>liveness</th>\n",
       "      <th>valence</th>\n",
       "      <th>tempo</th>\n",
       "      <th>labels</th>\n",
       "    </tr>\n",
       "  </thead>\n",
       "  <tbody>\n",
       "    <tr>\n",
       "      <th>0</th>\n",
       "      <td>0.611</td>\n",
       "      <td>0.614</td>\n",
       "      <td>-8.815</td>\n",
       "      <td>0.0672</td>\n",
       "      <td>0.01690</td>\n",
       "      <td>0.000794</td>\n",
       "      <td>0.7530</td>\n",
       "      <td>0.520</td>\n",
       "      <td>128.050</td>\n",
       "      <td>2</td>\n",
       "    </tr>\n",
       "    <tr>\n",
       "      <th>1</th>\n",
       "      <td>0.638</td>\n",
       "      <td>0.781</td>\n",
       "      <td>-6.848</td>\n",
       "      <td>0.0285</td>\n",
       "      <td>0.01180</td>\n",
       "      <td>0.009530</td>\n",
       "      <td>0.3490</td>\n",
       "      <td>0.250</td>\n",
       "      <td>122.985</td>\n",
       "      <td>1</td>\n",
       "    </tr>\n",
       "    <tr>\n",
       "      <th>2</th>\n",
       "      <td>0.560</td>\n",
       "      <td>0.810</td>\n",
       "      <td>-8.029</td>\n",
       "      <td>0.0872</td>\n",
       "      <td>0.00710</td>\n",
       "      <td>0.000008</td>\n",
       "      <td>0.2410</td>\n",
       "      <td>0.247</td>\n",
       "      <td>170.044</td>\n",
       "      <td>1</td>\n",
       "    </tr>\n",
       "    <tr>\n",
       "      <th>3</th>\n",
       "      <td>0.525</td>\n",
       "      <td>0.699</td>\n",
       "      <td>-4.571</td>\n",
       "      <td>0.0353</td>\n",
       "      <td>0.01780</td>\n",
       "      <td>0.000088</td>\n",
       "      <td>0.0888</td>\n",
       "      <td>0.199</td>\n",
       "      <td>92.011</td>\n",
       "      <td>0</td>\n",
       "    </tr>\n",
       "    <tr>\n",
       "      <th>4</th>\n",
       "      <td>0.367</td>\n",
       "      <td>0.771</td>\n",
       "      <td>-5.863</td>\n",
       "      <td>0.1060</td>\n",
       "      <td>0.36500</td>\n",
       "      <td>0.000001</td>\n",
       "      <td>0.0965</td>\n",
       "      <td>0.163</td>\n",
       "      <td>115.917</td>\n",
       "      <td>1</td>\n",
       "    </tr>\n",
       "    <tr>\n",
       "      <th>...</th>\n",
       "      <td>...</td>\n",
       "      <td>...</td>\n",
       "      <td>...</td>\n",
       "      <td>...</td>\n",
       "      <td>...</td>\n",
       "      <td>...</td>\n",
       "      <td>...</td>\n",
       "      <td>...</td>\n",
       "      <td>...</td>\n",
       "      <td>...</td>\n",
       "    </tr>\n",
       "    <tr>\n",
       "      <th>277933</th>\n",
       "      <td>0.777</td>\n",
       "      <td>0.725</td>\n",
       "      <td>-9.012</td>\n",
       "      <td>0.0470</td>\n",
       "      <td>0.12600</td>\n",
       "      <td>0.010800</td>\n",
       "      <td>0.0917</td>\n",
       "      <td>0.851</td>\n",
       "      <td>128.349</td>\n",
       "      <td>1</td>\n",
       "    </tr>\n",
       "    <tr>\n",
       "      <th>277934</th>\n",
       "      <td>0.543</td>\n",
       "      <td>0.482</td>\n",
       "      <td>-12.789</td>\n",
       "      <td>0.1940</td>\n",
       "      <td>0.08530</td>\n",
       "      <td>0.000092</td>\n",
       "      <td>0.1110</td>\n",
       "      <td>0.415</td>\n",
       "      <td>193.513</td>\n",
       "      <td>1</td>\n",
       "    </tr>\n",
       "    <tr>\n",
       "      <th>277935</th>\n",
       "      <td>0.527</td>\n",
       "      <td>0.942</td>\n",
       "      <td>-5.640</td>\n",
       "      <td>0.0366</td>\n",
       "      <td>0.01150</td>\n",
       "      <td>0.000000</td>\n",
       "      <td>0.1880</td>\n",
       "      <td>0.495</td>\n",
       "      <td>148.723</td>\n",
       "      <td>2</td>\n",
       "    </tr>\n",
       "    <tr>\n",
       "      <th>277936</th>\n",
       "      <td>0.768</td>\n",
       "      <td>0.829</td>\n",
       "      <td>-5.109</td>\n",
       "      <td>0.0313</td>\n",
       "      <td>0.09640</td>\n",
       "      <td>0.000029</td>\n",
       "      <td>0.0970</td>\n",
       "      <td>0.962</td>\n",
       "      <td>118.773</td>\n",
       "      <td>1</td>\n",
       "    </tr>\n",
       "    <tr>\n",
       "      <th>277937</th>\n",
       "      <td>0.779</td>\n",
       "      <td>0.870</td>\n",
       "      <td>-13.141</td>\n",
       "      <td>0.0574</td>\n",
       "      <td>0.00644</td>\n",
       "      <td>0.010700</td>\n",
       "      <td>0.0399</td>\n",
       "      <td>0.555</td>\n",
       "      <td>102.689</td>\n",
       "      <td>1</td>\n",
       "    </tr>\n",
       "  </tbody>\n",
       "</table>\n",
       "<p>277938 rows × 10 columns</p>\n",
       "</div>"
      ],
      "text/plain": [
       "        danceability  energy  loudness  speechiness  acousticness  \\\n",
       "0              0.611   0.614    -8.815       0.0672       0.01690   \n",
       "1              0.638   0.781    -6.848       0.0285       0.01180   \n",
       "2              0.560   0.810    -8.029       0.0872       0.00710   \n",
       "3              0.525   0.699    -4.571       0.0353       0.01780   \n",
       "4              0.367   0.771    -5.863       0.1060       0.36500   \n",
       "...              ...     ...       ...          ...           ...   \n",
       "277933         0.777   0.725    -9.012       0.0470       0.12600   \n",
       "277934         0.543   0.482   -12.789       0.1940       0.08530   \n",
       "277935         0.527   0.942    -5.640       0.0366       0.01150   \n",
       "277936         0.768   0.829    -5.109       0.0313       0.09640   \n",
       "277937         0.779   0.870   -13.141       0.0574       0.00644   \n",
       "\n",
       "        instrumentalness  liveness  valence    tempo  labels  \n",
       "0               0.000794    0.7530    0.520  128.050       2  \n",
       "1               0.009530    0.3490    0.250  122.985       1  \n",
       "2               0.000008    0.2410    0.247  170.044       1  \n",
       "3               0.000088    0.0888    0.199   92.011       0  \n",
       "4               0.000001    0.0965    0.163  115.917       1  \n",
       "...                  ...       ...      ...      ...     ...  \n",
       "277933          0.010800    0.0917    0.851  128.349       1  \n",
       "277934          0.000092    0.1110    0.415  193.513       1  \n",
       "277935          0.000000    0.1880    0.495  148.723       2  \n",
       "277936          0.000029    0.0970    0.962  118.773       1  \n",
       "277937          0.010700    0.0399    0.555  102.689       1  \n",
       "\n",
       "[277938 rows x 10 columns]"
      ]
     },
     "execution_count": 5,
     "metadata": {},
     "output_type": "execute_result"
    }
   ],
   "source": [
    "df"
   ]
  },
  {
   "cell_type": "code",
   "execution_count": 6,
   "metadata": {},
   "outputs": [],
   "source": [
    "# Select features and target\n",
    "X = df.drop(['labels'], axis=1).values\n",
    "y = df['labels'].values\n",
    "\n",
    "# Normalize the input features\n",
    "scaler = StandardScaler()\n",
    "X_scaled = scaler.fit_transform(X)\n",
    "\n",
    "# Split the dataset\n",
    "X_train, X_test, y_train, y_test = train_test_split(X_scaled, y, test_size=0.2, random_state=42)\n",
    "\n",
    "# Convert to PyTorch tensors\n",
    "X_train_tensor = torch.tensor(X_train, dtype=torch.float)\n",
    "y_train_tensor = torch.tensor(y_train, dtype=torch.long)\n",
    "X_test_tensor = torch.tensor(X_test, dtype=torch.float)\n",
    "y_test_tensor = torch.tensor(y_test, dtype=torch.long)\n",
    "\n",
    "# Create DataLoader\n",
    "train_data = TensorDataset(X_train_tensor, y_train_tensor)\n",
    "test_data = TensorDataset(X_test_tensor, y_test_tensor)\n",
    "\n",
    "batch_size = 32\n",
    "train_loader = DataLoader(train_data, shuffle=True, batch_size=batch_size)\n",
    "test_loader = DataLoader(test_data, batch_size=batch_size)"
   ]
  },
  {
   "cell_type": "markdown",
   "metadata": {},
   "source": [
    "**Define a Model**"
   ]
  },
  {
   "cell_type": "code",
   "execution_count": 7,
   "metadata": {},
   "outputs": [],
   "source": [
    "class shallow_nn(nn.Module):\n",
    "    def __init__(self):\n",
    "        super(shallow_nn, self).__init__()\n",
    "        self.fc1 = nn.Linear(X.shape[1], 128)  \n",
    "        self.fc2 = nn.Linear(128, 64)\n",
    "        self.fc3 = nn.Linear(64, 4)  # 4 classes\n",
    "\n",
    "    def forward(self, x):\n",
    "        x = F.relu(self.fc1(x))\n",
    "        x = F.relu(self.fc2(x))\n",
    "        x = self.fc3(x)\n",
    "        return x\n",
    "\n",
    "model = shallow_nn()"
   ]
  },
  {
   "cell_type": "code",
   "execution_count": 8,
   "metadata": {},
   "outputs": [
    {
     "data": {
      "text/plain": [
       "shallow_nn(\n",
       "  (fc1): Linear(in_features=9, out_features=128, bias=True)\n",
       "  (fc2): Linear(in_features=128, out_features=64, bias=True)\n",
       "  (fc3): Linear(in_features=64, out_features=4, bias=True)\n",
       ")"
      ]
     },
     "execution_count": 8,
     "metadata": {},
     "output_type": "execute_result"
    }
   ],
   "source": [
    "model"
   ]
  },
  {
   "cell_type": "markdown",
   "metadata": {},
   "source": [
    "**Train and evaluate the model**"
   ]
  },
  {
   "cell_type": "code",
   "execution_count": 9,
   "metadata": {},
   "outputs": [],
   "source": [
    "# Initialize lists to store accuracies\n",
    "train_accuracies = []\n",
    "test_accuracies = []"
   ]
  },
  {
   "cell_type": "code",
   "execution_count": 10,
   "metadata": {},
   "outputs": [],
   "source": [
    "def train_and_evaluate(model, train_loader, test_loader, epochs=10):\n",
    "    criterion = nn.CrossEntropyLoss()\n",
    "    optimizer = optim.Adam(model.parameters(), lr=0.001)\n",
    "\n",
    "    for epoch in range(epochs):\n",
    "        model.train()  \n",
    "        train_loss = 0\n",
    "        correct_train = 0\n",
    "        total_train = 0\n",
    "        \n",
    "        for inputs, labels in train_loader:\n",
    "            optimizer.zero_grad()\n",
    "            outputs = model(inputs)\n",
    "            loss = criterion(outputs, labels)\n",
    "            loss.backward()\n",
    "            optimizer.step()\n",
    "\n",
    "            train_loss += loss.item()\n",
    "            _, predicted = torch.max(outputs.data, 1)\n",
    "            total_train += labels.size(0)\n",
    "            correct_train += (predicted == labels).sum().item()\n",
    "\n",
    "        train_accuracy = 100 * correct_train / total_train\n",
    "        train_accuracies.append(train_accuracy)\n",
    "\n",
    "        # Evaluate on the test set\n",
    "        model.eval()  \n",
    "        correct_test = 0\n",
    "        total_test = 0\n",
    "        with torch.no_grad():\n",
    "            for inputs, labels in test_loader:\n",
    "                outputs = model(inputs)\n",
    "                _, predicted = torch.max(outputs.data, 1)\n",
    "                total_test += labels.size(0)\n",
    "                correct_test += (predicted == labels).sum().item()\n",
    "\n",
    "        test_accuracy = 100 * correct_test / total_test\n",
    "        test_accuracies.append(test_accuracy)\n",
    "\n",
    "        print(f\"Epoch {epoch+1}, Loss: {train_loss/len(train_loader)}, \"\n",
    "              f\"Train Accuracy: {train_accuracy:.2f}%, Test Accuracy: {test_accuracy:.2f}%\")"
   ]
  },
  {
   "cell_type": "code",
   "execution_count": 11,
   "metadata": {},
   "outputs": [
    {
     "name": "stdout",
     "output_type": "stream",
     "text": [
      "Epoch 1, Loss: 0.3391147141093821, Train Accuracy: 85.77%, Test Accuracy: 87.30%\n",
      "Epoch 2, Loss: 0.29057344641112426, Train Accuracy: 87.56%, Test Accuracy: 87.94%\n",
      "Epoch 3, Loss: 0.2770301362228601, Train Accuracy: 88.19%, Test Accuracy: 88.43%\n",
      "Epoch 4, Loss: 0.26762624912994304, Train Accuracy: 88.59%, Test Accuracy: 88.33%\n",
      "Epoch 5, Loss: 0.2614691973355481, Train Accuracy: 88.76%, Test Accuracy: 88.50%\n",
      "Epoch 6, Loss: 0.2571556412406209, Train Accuracy: 89.00%, Test Accuracy: 88.56%\n",
      "Epoch 7, Loss: 0.2529858180212793, Train Accuracy: 89.21%, Test Accuracy: 88.88%\n",
      "Epoch 8, Loss: 0.25049705451236715, Train Accuracy: 89.29%, Test Accuracy: 89.17%\n",
      "Epoch 9, Loss: 0.2476906191452036, Train Accuracy: 89.41%, Test Accuracy: 88.95%\n",
      "Epoch 10, Loss: 0.2454340416144117, Train Accuracy: 89.48%, Test Accuracy: 89.43%\n"
     ]
    }
   ],
   "source": [
    "train_and_evaluate(model, train_loader, test_loader, epochs=10)"
   ]
  },
  {
   "cell_type": "code",
   "execution_count": 12,
   "metadata": {},
   "outputs": [
    {
     "data": {
      "image/png": "[encoded data removed]",
      "text/plain": [
       "<Figure size 1000x600 with 1 Axes>"
      ]
     },
     "metadata": {},
     "output_type": "display_data"
    }
   ],
   "source": [
    "# Plotting\n",
    "plt.figure(figsize=(10, 6))\n",
    "plt.plot(train_accuracies, label='Train Accuracy')\n",
    "plt.plot(test_accuracies, label='Test Accuracy')\n",
    "plt.xlabel('Epoch')\n",
    "plt.ylabel('Accuracy (%)')\n",
    "plt.title('Training and Test Accuracies')\n",
    "plt.legend()\n",
    "plt.grid(True)\n",
    "plt.show()"
   ]
  },
  {
   "cell_type": "code",
   "execution_count": null,
   "metadata": {},
   "outputs": [],
   "source": []
  }
 ],
 "metadata": {
  "kernelspec": {
   "display_name": "base",
   "language": "python",
   "name": "python3"
  },
  "language_info": {
   "codemirror_mode": {
    "name": "ipython",
    "version": 3
   },
   "file_extension": ".py",
   "mimetype": "text/x-python",
   "name": "python",
   "nbconvert_exporter": "python",
   "pygments_lexer": "ipython3",
   "version": "3.8.8"
  }
 },
 "nbformat": 4,
 "nbformat_minor": 2
}
